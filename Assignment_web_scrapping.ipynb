{
 "cells": [
  {
   "cell_type": "code",
   "execution_count": 1,
   "id": "78527ce7-d743-4d5d-91e6-7226d47eed9c",
   "metadata": {},
   "outputs": [
    {
     "data": {
      "text/plain": [
       "'\\n- Web scrabing is a process to collect data from diffrent websites on the internet.\\n- its used for multiable purposes , for example in field of Data science to build a modell and train it with thies data\\nor if im locking for a job i can scrab a job portal and filter the information that i need to find the job that i want .\\n- we can use it also to scrapp images and build a web aplications to surve a surton purpose \\n\\n'"
      ]
     },
     "execution_count": 1,
     "metadata": {},
     "output_type": "execute_result"
    }
   ],
   "source": [
    "# Q1\n",
    "\n",
    "'''\n",
    "- Web scrabing is a process to collect data from diffrent websites on the internet.\n",
    "- its used for multiable purposes , for example in field of Data science to build a modell and train it with thies data\n",
    "or if im locking for a job i can scrab a job portal and filter the information that i need to find the job that i want .\n",
    "- we can use it also to scrapp images and build a web aplications to surve a surton purpose \n",
    "\n",
    "'''"
   ]
  },
  {
   "cell_type": "code",
   "execution_count": 2,
   "id": "055660e6-928b-40a9-803f-f7175212dfed",
   "metadata": {},
   "outputs": [
    {
     "data": {
      "text/plain": [
       "'\\nThere are multiable methods such as:\\nbs4 , scraby, selenium, request and request-html\\n'"
      ]
     },
     "execution_count": 2,
     "metadata": {},
     "output_type": "execute_result"
    }
   ],
   "source": [
    "# Q2\n",
    "'''\n",
    "There are multiable methods such as:\n",
    "bs4 , scraby, selenium, request and request-html\n",
    "'''"
   ]
  },
  {
   "cell_type": "code",
   "execution_count": 3,
   "id": "f0f82a60-8d15-4fe3-894f-323868208022",
   "metadata": {},
   "outputs": [
    {
     "data": {
      "text/plain": [
       "'\\nBeautiful Soup is a library in Bython that used to scrap Data, but its limited . For example its not good for dynamic websites\\n'"
      ]
     },
     "execution_count": 3,
     "metadata": {},
     "output_type": "execute_result"
    }
   ],
   "source": [
    "# Q3\n",
    "'''\n",
    "Beautiful Soup is a library in Bython that used to scrap Data, but its limited . For example its not good for dynamic websites\n",
    "'''"
   ]
  },
  {
   "cell_type": "code",
   "execution_count": 4,
   "id": "7bdb723d-feb4-4323-8644-7cf7e15deb08",
   "metadata": {},
   "outputs": [
    {
     "data": {
      "text/plain": [
       "'\\nFlask is used to build a web aps for the data that has bin scrapped.\\n'"
      ]
     },
     "execution_count": 4,
     "metadata": {},
     "output_type": "execute_result"
    }
   ],
   "source": [
    "# Q4\n",
    "'''\n",
    "Flask is used to build a web aps for the data that has bin scrapped.\n",
    "'''"
   ]
  },
  {
   "cell_type": "code",
   "execution_count": 5,
   "id": "45f516e0-8334-4628-b0bc-d5d652bff133",
   "metadata": {},
   "outputs": [
    {
     "data": {
      "text/plain": [
       "'\\n-code pipeline\\n- Beanstalk \\n\\nAWS CodePipeline is used to automate the release process by creating a continuous delivery pipeline, \\nwhile AWS Elastic Beanstalk simplifies application deployment and management by handling capacity provisioning, load balancing, and auto-scaling.\\n\\n\\n\\n\\n\\n\\n'"
      ]
     },
     "execution_count": 5,
     "metadata": {},
     "output_type": "execute_result"
    }
   ],
   "source": [
    "# Q5\n",
    "'''\n",
    "-code pipeline\n",
    "- Beanstalk \n",
    "\n",
    "AWS CodePipeline is used to automate the release process by creating a continuous delivery pipeline, \n",
    "while AWS Elastic Beanstalk simplifies application deployment and management by handling capacity provisioning, load balancing, and auto-scaling.\n",
    "\n",
    "\n",
    "\n",
    "\n",
    "\n",
    "\n",
    "'''"
   ]
  },
  {
   "cell_type": "code",
   "execution_count": null,
   "id": "e5510f8f-9157-41ea-8dc1-0aac8bb4c23e",
   "metadata": {},
   "outputs": [],
   "source": []
  }
 ],
 "metadata": {
  "kernelspec": {
   "display_name": "Python 3 (ipykernel)",
   "language": "python",
   "name": "python3"
  },
  "language_info": {
   "codemirror_mode": {
    "name": "ipython",
    "version": 3
   },
   "file_extension": ".py",
   "mimetype": "text/x-python",
   "name": "python",
   "nbconvert_exporter": "python",
   "pygments_lexer": "ipython3",
   "version": "3.10.8"
  }
 },
 "nbformat": 4,
 "nbformat_minor": 5
}
