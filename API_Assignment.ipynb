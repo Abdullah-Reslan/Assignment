{
 "cells": [
  {
   "cell_type": "code",
   "execution_count": 1,
   "id": "1b30455f-9464-4b53-a297-c669dd9d5244",
   "metadata": {},
   "outputs": [
    {
     "data": {
      "text/plain": [
       "'\\nAPI : stand for Application Programming Interface.\\n\\nAPI is used to communicate between to Apps remotly.\\n\\nExample for that is Web API, Google Maps API, Github API, Youtube API\\n\\n'"
      ]
     },
     "execution_count": 1,
     "metadata": {},
     "output_type": "execute_result"
    }
   ],
   "source": [
    "# Q1\n",
    "\n",
    "'''\n",
    "API : stand for Application Programming Interface.\n",
    "\n",
    "API is used to communicate between to Apps remotly.\n",
    "\n",
    "Example for that is Web API, Google Maps API, Github API, Youtube API\n",
    "\n",
    "'''"
   ]
  },
  {
   "cell_type": "code",
   "execution_count": 2,
   "id": "5639293d-6ff5-4363-ac15-8e6d777af164",
   "metadata": {},
   "outputs": [
    {
     "data": {
      "text/plain": [
       "'\\nAdvanteges:\\nscaleability, flexability, simplicity, efficiency\\n\\nDisadvanteges:\\n not secure so wa have have to build it with multiable layers to protect it \\n Dependincy\\n Versioning Challenging\\n\\n\\n'"
      ]
     },
     "execution_count": 2,
     "metadata": {},
     "output_type": "execute_result"
    }
   ],
   "source": [
    "# Q3\n",
    "\n",
    "'''\n",
    "Advanteges:\n",
    "scaleability, flexability, simplicity, efficiency\n",
    "\n",
    "Disadvanteges:\n",
    " not secure so wa have have to build it with multiable layers to protect it \n",
    " Dependincy\n",
    " Versioning Challenging\n",
    " Cost\n",
    "\n",
    "\n",
    "'''"
   ]
  },
  {
   "cell_type": "code",
   "execution_count": 3,
   "id": "1a1745dc-9318-49d6-a254-06c92002a6f0",
   "metadata": {},
   "outputs": [
    {
     "data": {
      "text/plain": [
       "'\\nWeb API : Stand for WEB Application Programming Interface\\n\\nDiffrent is that web API happend between to web pages or Web protocols (such as HTTP) throw the Internet.\\nbut API Facilitates communication within a single application or between applications on the same machine or network.\\n\\n'"
      ]
     },
     "execution_count": 3,
     "metadata": {},
     "output_type": "execute_result"
    }
   ],
   "source": [
    "# Q3\n",
    "\n",
    "'''\n",
    "Web API : Stand for WEB Application Programming Interface\n",
    "\n",
    "Diffrent is that web API happend between to web pages or Web protocols (such as HTTP) throw the Internet.\n",
    "but API Facilitates communication within a single application or between applications on the same machine or network.\n",
    "\n",
    "'''"
   ]
  },
  {
   "cell_type": "code",
   "execution_count": 4,
   "id": "00f14e43-a503-4cb6-b24f-fe5dcf97c4c5",
   "metadata": {},
   "outputs": [
    {
     "data": {
      "text/plain": [
       "'\\nREST : stand for Representaional State Transfer\\nutilize standard HTTP methods for communication (GET, POST, PUT, DELETE)\\nemphasize stateless communication between client and server\\nsupport multiple data foramts (JSON and XML)\\n\\n\\nSOAP : stand for Simple Object Access Protocol\\nrelies on XML for messege format\\nuse various transport protocols such as HTTP, SMTP, and others\\noffers built in features for security , transaction , and reliablity\\nMore complex compare to REST\\n\\n'"
      ]
     },
     "execution_count": 4,
     "metadata": {},
     "output_type": "execute_result"
    }
   ],
   "source": [
    "# Q4\n",
    "'''\n",
    "REST : is an architectuural style for desining networked applications.\n",
    "\n",
    "SOAP : is a protocol for exchangeing structured information in web services\n",
    "\n",
    "Shortcomings of SOAP:\n",
    "Complexity, Performance Overhead, limited compatibility, Strict Spec\n",
    "\n",
    "'''"
   ]
  },
  {
   "cell_type": "code",
   "execution_count": null,
   "id": "2906dfc2-1ffa-4369-aa45-49e75c90a8ac",
   "metadata": {},
   "outputs": [],
   "source": [
    "# Q5\n",
    "\n",
    "'''\n",
    "\n",
    "REST : stand for Representaional State Transfer\n",
    "utilize standard HTTP methods for communication (GET, POST, PUT, DELETE)\n",
    "emphasize stateless communication between client and server\n",
    "support multiple data foramts (JSON and XML)\n",
    "\n",
    "\n",
    "SOAP : stand for Simple Object Access Protocol\n",
    "relies on XML for messege format\n",
    "use various transport protocols such as HTTP, SMTP, and others\n",
    "offers built in features for security , transaction , and reliablity\n",
    "More complex compare to REST\n",
    "\n",
    "\n",
    "'''"
   ]
  }
 ],
 "metadata": {
  "kernelspec": {
   "display_name": "Python 3 (ipykernel)",
   "language": "python",
   "name": "python3"
  },
  "language_info": {
   "codemirror_mode": {
    "name": "ipython",
    "version": 3
   },
   "file_extension": ".py",
   "mimetype": "text/x-python",
   "name": "python",
   "nbconvert_exporter": "python",
   "pygments_lexer": "ipython3",
   "version": "3.10.8"
  }
 },
 "nbformat": 4,
 "nbformat_minor": 5
}
