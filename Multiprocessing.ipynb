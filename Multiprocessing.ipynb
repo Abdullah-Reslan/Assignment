{
 "cells": [
  {
   "cell_type": "code",
   "execution_count": 1,
   "id": "d0999e6e-c700-47b7-83b5-92ea9832e148",
   "metadata": {},
   "outputs": [
    {
     "data": {
      "text/plain": [
       "'\\nMultiprocessing is a codingstyle  that make us cabable of using multiable processes in a single thread\\nIts useful because it improve the performance of a programm to the maximum.\\n'"
      ]
     },
     "execution_count": 1,
     "metadata": {},
     "output_type": "execute_result"
    }
   ],
   "source": [
    "# Q1\n",
    "'''\n",
    "Multiprocessing is a codingstyle  that make us cabable of using multiable processes in a single thread\n",
    "Its useful because it improve the performance of a programm to the maximum.\n",
    "'''"
   ]
  },
  {
   "cell_type": "code",
   "execution_count": 2,
   "id": "c64132e8-e21e-4bf9-8a7b-2cc74287c1c8",
   "metadata": {},
   "outputs": [
    {
     "data": {
      "text/plain": [
       "'\\nMultiprocessing : we use multiable processes in one thread\\nMultithreading : we use multiable threads in one process\\n'"
      ]
     },
     "execution_count": 2,
     "metadata": {},
     "output_type": "execute_result"
    }
   ],
   "source": [
    "# Q2\n",
    "'''\n",
    "Multiprocessing : we use multiable processes in one thread\n",
    "Multithreading : we use multiable threads in one process\n",
    "'''"
   ]
  },
  {
   "cell_type": "code",
   "execution_count": 4,
   "id": "d88b7dc2-075a-4819-ae64-0ebea61e3f9d",
   "metadata": {},
   "outputs": [
    {
     "name": "stdout",
     "output_type": "stream",
     "text": [
      "This come from multiprocessing\n",
      "This the firs function\n"
     ]
    }
   ],
   "source": [
    "# Q3\n",
    "import multiprocessing\n",
    "\n",
    "def memory_managment():\n",
    "    print(\"This the firs function\")\n",
    "    \n",
    "if __name__ == \"__main__\":\n",
    "    m = multiprocessing.Process(target= memory_managment)\n",
    "    print(\"This come from multiprocessing\")\n",
    "    m.start()\n",
    "    m.join()"
   ]
  },
  {
   "cell_type": "code",
   "execution_count": 5,
   "id": "a91fb533-1219-4d66-a704-d7abb2292e52",
   "metadata": {},
   "outputs": [
    {
     "data": {
      "text/plain": [
       "'\\nPool allowes me to use multiable processes at once when i have for example millions of operations.\\nthat allows me to reach a high code performance\\n'"
      ]
     },
     "execution_count": 5,
     "metadata": {},
     "output_type": "execute_result"
    }
   ],
   "source": [
    "# Q4\n",
    "'''\n",
    "Pool allowes me to use multiable processes at once when i have for example millions of operations.\n",
    "that allows me to reach a high code performance\n",
    "'''"
   ]
  },
  {
   "cell_type": "code",
   "execution_count": 9,
   "id": "76a60467-b7f1-4a7d-adbf-112704098ba1",
   "metadata": {},
   "outputs": [
    {
     "name": "stdout",
     "output_type": "stream",
     "text": [
      "The square of 1 is : 1\n",
      "The square of 2 is : 4\n",
      "The square of 5 is : 25\n",
      "The square of 3 is : 9\n",
      "The square of 4 is : 16\n",
      "The square of 8 is : 64\n",
      "The square of 89 is : 7921\n",
      "The square of 76 is : 5776\n",
      "The square of 6 is : 36\n",
      "\n",
      "\n",
      "\n",
      "\n",
      "\n",
      "\n",
      "\n",
      "\n",
      "\n"
     ]
    }
   ],
   "source": [
    "# Q5\n",
    "\n",
    "def print_squared(x):\n",
    "    result = x**2\n",
    "    print(f\"The square of {x} is : {result}\\n\")\n",
    "    \n",
    "if __name__ == \"__main__\":\n",
    "    with multiprocessing.Pool(processes = 10) as pool :\n",
    "        numbers = [1,2,3,4,5,6,76,8,89]\n",
    "        \n",
    "        results = pool.map(print_squared, numbers)\n",
    "        "
   ]
  },
  {
   "cell_type": "code",
   "execution_count": 12,
   "id": "0754ac19-b5dc-4315-8e11-17d076775549",
   "metadata": {},
   "outputs": [
    {
     "name": "stdout",
     "output_type": "stream",
     "text": [
      "Process_1 : 1\n",
      "Process_2 : 2\n",
      "Process_3 : 3\n",
      "Process_4 : 4\n"
     ]
    }
   ],
   "source": [
    "# Q6\n",
    "\n",
    "import multiprocessing\n",
    "\n",
    "def process_1():\n",
    "    print(\"Process_1 : 1\")\n",
    "def process_2():\n",
    "    print(\"Process_2 : 2\")\n",
    "def process_3():\n",
    "    print(\"Process_3 : 3\")\n",
    "def process_4():\n",
    "    print(\"Process_4 : 4\")\n",
    "    \n",
    "if __name__ == \"__main__\":\n",
    "    process_1 = multiprocessing.Process(target=process_1)\n",
    "    process_2 = multiprocessing.Process(target=process_2)\n",
    "    process_3 = multiprocessing.Process(target=process_3)\n",
    "    process_4 = multiprocessing.Process(target=process_4)\n",
    "    \n",
    "    process_1.start()\n",
    "    process_2.start()\n",
    "    process_3.start()\n",
    "    process_4.start()\n",
    "    \n",
    "    process_1.join()\n",
    "    process_2.join()\n",
    "    process_3.join()\n",
    "    process_4.join()"
   ]
  },
  {
   "cell_type": "code",
   "execution_count": null,
   "id": "307d495a-1ef0-40b9-9134-b90b94c0b73a",
   "metadata": {},
   "outputs": [],
   "source": []
  }
 ],
 "metadata": {
  "kernelspec": {
   "display_name": "Python 3 (ipykernel)",
   "language": "python",
   "name": "python3"
  },
  "language_info": {
   "codemirror_mode": {
    "name": "ipython",
    "version": 3
   },
   "file_extension": ".py",
   "mimetype": "text/x-python",
   "name": "python",
   "nbconvert_exporter": "python",
   "pygments_lexer": "ipython3",
   "version": "3.10.8"
  }
 },
 "nbformat": 4,
 "nbformat_minor": 5
}
