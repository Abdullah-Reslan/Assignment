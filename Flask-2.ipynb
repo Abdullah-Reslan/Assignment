{
 "cells": [
  {
   "cell_type": "code",
   "execution_count": 9,
   "id": "b62b9693-59bd-447c-b6ed-2f62bd6a9b33",
   "metadata": {},
   "outputs": [
    {
     "data": {
      "text/plain": [
       "'\\nGet and POST are methods to get the data from a url .\\nThe Diffrent is :\\nthat GET show the data to the puplic (like google search),\\nPOST keep the Data privat such as the log in into an email\\n'"
      ]
     },
     "execution_count": 9,
     "metadata": {},
     "output_type": "execute_result"
    }
   ],
   "source": [
    "# Q1\n",
    "\n",
    "'''\n",
    "Get and POST are methods to get the data from a url .\n",
    "The Diffrent is :\n",
    "that GET show the data to the puplic (like google search),\n",
    "POST keep the Data privat such as the log in into an email\n",
    "'''"
   ]
  },
  {
   "cell_type": "code",
   "execution_count": 10,
   "id": "43b6e95e-863e-496b-88a2-76b51797a144",
   "metadata": {},
   "outputs": [
    {
     "data": {
      "text/plain": [
       "'\\nIn Flask , the request object is used to access incoming request data sent by the client, \\nsuch as form data, query parameters, cookies, headres.\\nIt allows Flask apps to interact with and process the data sent by users in their requests.\\n\\n'"
      ]
     },
     "execution_count": 10,
     "metadata": {},
     "output_type": "execute_result"
    }
   ],
   "source": [
    "# Q2\n",
    "'''\n",
    "In Flask , the request object is used to access incoming request data sent by the client, \n",
    "such as form data, query parameters, cookies, headres.\n",
    "It allows Flask apps to interact with and process the data sent by users in their requests.\n",
    "\n",
    "'''"
   ]
  },
  {
   "cell_type": "code",
   "execution_count": 11,
   "id": "fd4c5868-4c37-478e-92e2-1d9d0e5cdabb",
   "metadata": {},
   "outputs": [
    {
     "data": {
      "text/plain": [
       "'\\nURL Redirection, Authentication and Authorization, Error hnadling, SEO(Search Engine Optimization)\\n\\n'"
      ]
     },
     "execution_count": 11,
     "metadata": {},
     "output_type": "execute_result"
    }
   ],
   "source": [
    "# Q3\n",
    "\n",
    "'''\n",
    "URL Redirection, Authentication and Authorization, Error hnadling, SEO(Search Engine Optimization)\n",
    "\n",
    "'''"
   ]
  },
  {
   "cell_type": "code",
   "execution_count": 12,
   "id": "f34834e9-c8e5-46ef-868c-525c70c76639",
   "metadata": {},
   "outputs": [
    {
     "data": {
      "text/plain": [
       "'\\nIN FLask templates are files that contain HTML markup with placeholders for dynamic content.\\n\\nrender_template() is used to to render and prasent the html page that i want to open and it will as an argument inside the function\\n\\n\\n'"
      ]
     },
     "execution_count": 12,
     "metadata": {},
     "output_type": "execute_result"
    }
   ],
   "source": [
    "# Q4\n",
    "\n",
    "'''\n",
    "IN FLask templates are files that contain HTML markup with placeholders for dynamic content.\n",
    "\n",
    "render_template() is used to to render and prasent the html page that i want to open and it will as an argument inside the function\n",
    "\n",
    "\n",
    "'''"
   ]
  },
  {
   "cell_type": "raw",
   "id": "098e51bc-d072-47b1-b090-b669594b4384",
   "metadata": {},
   "source": [
    "from flask import Flask, request, jsonify\n",
    "\n",
    "app = Flask(__name__)\n",
    "\n",
    "@app.route(\"/api/add\" , methods= [\"POST\"])\n",
    "def add_numbers():\n",
    "    data = request.get_json()\n",
    "\n",
    "    num1 = data.get(\"num1\")\n",
    "    num2 = data.get(\"num2\")\n",
    "\n",
    "    result = num1 + num2\n",
    "\n",
    "    return jsonify({\"result\" : result})\n",
    "\n",
    "\n",
    "\n",
    "\n",
    "if __name__==\"__main__\":\n",
    "    app.run(host=\"0.0.0.0\")"
   ]
  },
  {
   "cell_type": "code",
   "execution_count": null,
   "id": "14e5a81c-fadb-439a-abc0-e54a385671c0",
   "metadata": {},
   "outputs": [],
   "source": []
  }
 ],
 "metadata": {
  "kernelspec": {
   "display_name": "Python 3 (ipykernel)",
   "language": "python",
   "name": "python3"
  },
  "language_info": {
   "codemirror_mode": {
    "name": "ipython",
    "version": 3
   },
   "file_extension": ".py",
   "mimetype": "text/x-python",
   "name": "python",
   "nbconvert_exporter": "python",
   "pygments_lexer": "ipython3",
   "version": "3.10.8"
  }
 },
 "nbformat": 4,
 "nbformat_minor": 5
}
