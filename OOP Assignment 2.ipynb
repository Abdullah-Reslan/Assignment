{
 "cells": [
  {
   "cell_type": "markdown",
   "id": "1f4e7232-4827-4d97-9e48-c377220fc36f",
   "metadata": {},
   "source": [
    "# Q1"
   ]
  },
  {
   "cell_type": "code",
   "execution_count": 2,
   "id": "5c83e84e-3812-45ac-a27f-f5665b611525",
   "metadata": {},
   "outputs": [],
   "source": [
    "class vehicle :\n",
    "    \n",
    "    def __init__(self, name_of_vehicle, max_speed, average_of_vehicle):\n",
    "        self.name_of_vehicle = name_of_vehicle\n",
    "        self.max_speed = max_speed\n",
    "        self.average_of_vehicle = average_of_vehicle\n",
    "        \n",
    "    def Info_of_vehicle(self):\n",
    "        print(\"Name of the Vehicle is \",self.name_of_vehicle)\n",
    "        print(\"The Maximum speed is: \",self.max_speed)\n",
    "        print(\"The Average per kmh is : \", self.average_of_vehicle)"
   ]
  },
  {
   "cell_type": "code",
   "execution_count": 4,
   "id": "8ae4dc76-4541-4829-82ad-1b6b54b96062",
   "metadata": {},
   "outputs": [],
   "source": [
    "car = vehicle(\"Volkswagen\", \"220 kmh\",500 )"
   ]
  },
  {
   "cell_type": "code",
   "execution_count": 5,
   "id": "790fd702-4b12-47e6-b44a-2e784075174f",
   "metadata": {},
   "outputs": [
    {
     "name": "stdout",
     "output_type": "stream",
     "text": [
      "Name of the Vehicle is  Volkswagen\n",
      "The Maximum speed is:  220 kmh\n",
      "The Average per kmh is :  500\n"
     ]
    }
   ],
   "source": [
    "car.Info_of_vehicle()"
   ]
  },
  {
   "cell_type": "markdown",
   "id": "3abd68af-0a04-4709-a39d-d1a465eb7760",
   "metadata": {},
   "source": [
    "# Q2"
   ]
  },
  {
   "cell_type": "code",
   "execution_count": 11,
   "id": "6f2e871f-8920-4ee8-817b-96b1d34482d8",
   "metadata": {},
   "outputs": [],
   "source": [
    "class Car(vehicle):\n",
    "    \n",
    "    def __init__(self,name_of_vehicle, max_speed, average_of_vehicle,seating_capacity):\n",
    "        super().__init__(name_of_vehicle, max_speed, average_of_vehicle)\n",
    "        self.seating_capacity = seating_capacity\n",
    "        \n",
    "    def Seating_capacity(self):\n",
    "        print(\"Name of the Vehicle is \",self.name_of_vehicle)\n",
    "        print(\"The Seating Capacity is suitable for\",self.seating_capacity,\" Persons\")\n",
    "        "
   ]
  },
  {
   "cell_type": "code",
   "execution_count": 12,
   "id": "1a5610bc-277c-44d0-bbab-4e8c4d71affb",
   "metadata": {},
   "outputs": [],
   "source": [
    "Toyota = Car(\"Toyota Corolla\", \"200 kmh\", 500, 5 )"
   ]
  },
  {
   "cell_type": "code",
   "execution_count": 13,
   "id": "b77b889e-93f0-4c0a-8bbe-f24e3defedc3",
   "metadata": {},
   "outputs": [
    {
     "name": "stdout",
     "output_type": "stream",
     "text": [
      "Name of the Vehicle is  Toyota Corolla\n",
      "The Seating Capacity is suitable for 5  Persons\n"
     ]
    }
   ],
   "source": [
    "Toyota.Seating_capacity()"
   ]
  },
  {
   "cell_type": "markdown",
   "id": "7c8af623-0085-4d22-b14b-153fa679dbbe",
   "metadata": {},
   "source": [
    "# Q3"
   ]
  },
  {
   "cell_type": "code",
   "execution_count": 23,
   "id": "8f7b1695-5ac4-4419-93d2-20341f8c6bca",
   "metadata": {},
   "outputs": [],
   "source": [
    "class NLP:\n",
    "    \n",
    "        \n",
    "    def print_msg(self):\n",
    "        print(\"I love NLP field\")\n",
    "        \n",
    "        \n",
    "class GenerativeAi:\n",
    "    def LLM(self):\n",
    "        print(\"You have to learn LLM to master Genaritve Ai\")\n",
    "        \n",
    "class DataScience(NLP, GenerativeAi):\n",
    "    def text(self):\n",
    "        print(\"This will contain NLP Class and GenaritveAi Class \")"
   ]
  },
  {
   "cell_type": "code",
   "execution_count": 24,
   "id": "1ed7337f-40b1-4538-a344-2b17c82b0497",
   "metadata": {},
   "outputs": [],
   "source": [
    "data = DataScience()"
   ]
  },
  {
   "cell_type": "code",
   "execution_count": 25,
   "id": "8e9b6190-edaf-4e0a-8e64-ccb13e334c51",
   "metadata": {},
   "outputs": [
    {
     "name": "stdout",
     "output_type": "stream",
     "text": [
      "I love NLP field\n",
      "You have to learn LLM to master Genaritve Ai\n",
      "This will contain NLP Class and GenaritveAi Class \n"
     ]
    }
   ],
   "source": [
    "data.print_msg()\n",
    "data.LLM()\n",
    "data.text()"
   ]
  },
  {
   "cell_type": "markdown",
   "id": "6552de75-14d6-485b-99e5-98c79bc6f0cd",
   "metadata": {},
   "source": [
    "# Q4 "
   ]
  },
  {
   "cell_type": "markdown",
   "id": "83e099d3-65f8-4467-938c-1abeba3d9a2e",
   "metadata": {},
   "source": [
    "setters and getters will be used mostly in Case of Encapsulation"
   ]
  },
  {
   "cell_type": "markdown",
   "id": "9c718769-0905-45c6-81b6-0faa1564580f",
   "metadata": {},
   "source": [
    "  .  setters will be used to set some sort of data inside the the privte function.\n",
    "  .  getters will be used to access the privte data ."
   ]
  },
  {
   "cell_type": "code",
   "execution_count": 26,
   "id": "7519ebdf-ffbd-4d2b-ae91-b40894eb8ad0",
   "metadata": {},
   "outputs": [],
   "source": [
    "class Test:\n",
    "    \n",
    "    def __init__(self, name):\n",
    "        self.__name = name \n",
    "        \n",
    "    def get_info(self): #getter\n",
    "        return self.__name\n",
    "    \n",
    "    def set_info(self, new_name): #Setter\n",
    "        self.__name = new_name"
   ]
  },
  {
   "cell_type": "code",
   "execution_count": 27,
   "id": "0d6f7b00-bc94-4f30-adca-8ae3df262760",
   "metadata": {},
   "outputs": [],
   "source": [
    "obj=Test(\"Reslan\")"
   ]
  },
  {
   "cell_type": "code",
   "execution_count": 28,
   "id": "ee676505-0916-4fc0-a835-17ec9d830827",
   "metadata": {},
   "outputs": [
    {
     "data": {
      "text/plain": [
       "'Reslan'"
      ]
     },
     "execution_count": 28,
     "metadata": {},
     "output_type": "execute_result"
    }
   ],
   "source": [
    "obj.get_info()"
   ]
  },
  {
   "cell_type": "code",
   "execution_count": 29,
   "id": "1cfdaf88-6939-4fb0-bcc6-c846d863f36a",
   "metadata": {},
   "outputs": [],
   "source": [
    "obj.set_info(\"Krish\")"
   ]
  },
  {
   "cell_type": "code",
   "execution_count": 30,
   "id": "5a9d1817-59e6-4409-a905-a5ff8a66dc02",
   "metadata": {},
   "outputs": [
    {
     "data": {
      "text/plain": [
       "'Krish'"
      ]
     },
     "execution_count": 30,
     "metadata": {},
     "output_type": "execute_result"
    }
   ],
   "source": [
    "obj.get_info()"
   ]
  },
  {
   "cell_type": "markdown",
   "id": "546cd830-b5a3-4d03-9e0e-4b4f5e65f121",
   "metadata": {},
   "source": [
    "# Q5"
   ]
  },
  {
   "cell_type": "code",
   "execution_count": 31,
   "id": "10665093-ed2a-4064-af59-23ae40b4b18d",
   "metadata": {},
   "outputs": [
    {
     "data": {
      "text/plain": [
       "'\\noverriding will used in abstraction. we will access a abstract class and use the functions and override it\\n'"
      ]
     },
     "execution_count": 31,
     "metadata": {},
     "output_type": "execute_result"
    }
   ],
   "source": [
    "\"\"\"\n",
    "overriding is way to access a superclass through subclass and define the function of superclass in subclass as we want \n",
    "\"\"\""
   ]
  },
  {
   "cell_type": "code",
   "execution_count": 32,
   "id": "6087f401-37f8-43d9-a200-10b4c242b183",
   "metadata": {},
   "outputs": [],
   "source": [
    "# EXP \n",
    "\n",
    "\n",
    "class countryInfo:\n",
    "    \n",
    "     def print_language(self):\n",
    "            print(\"English\")\n",
    "            \n",
    "class spain(countryInfo):\n",
    "    \n",
    "    def print_language(self):\n",
    "        print(\"spanish\")\n",
    "        "
   ]
  },
  {
   "cell_type": "code",
   "execution_count": 33,
   "id": "b1c4e381-b6c6-457a-b105-8e0664ab1e22",
   "metadata": {},
   "outputs": [],
   "source": [
    "country = countryInfo()"
   ]
  },
  {
   "cell_type": "code",
   "execution_count": 34,
   "id": "b543b2b6-8711-4e2d-b217-59cf71a5bb4f",
   "metadata": {},
   "outputs": [],
   "source": [
    "sp = spain()"
   ]
  },
  {
   "cell_type": "code",
   "execution_count": 35,
   "id": "ad3aa196-e530-48fd-8a69-5d2151587bff",
   "metadata": {},
   "outputs": [
    {
     "name": "stdout",
     "output_type": "stream",
     "text": [
      "English\n"
     ]
    }
   ],
   "source": [
    "country.print_language()"
   ]
  },
  {
   "cell_type": "code",
   "execution_count": 36,
   "id": "1a4512d1-ea04-4339-b333-19542f92bfe3",
   "metadata": {},
   "outputs": [
    {
     "name": "stdout",
     "output_type": "stream",
     "text": [
      "spanish\n"
     ]
    }
   ],
   "source": [
    "sp.print_language() # overriding through "
   ]
  },
  {
   "cell_type": "code",
   "execution_count": null,
   "id": "648bbacb-9f5d-47e4-a087-346cbef73194",
   "metadata": {},
   "outputs": [],
   "source": []
  }
 ],
 "metadata": {
  "kernelspec": {
   "display_name": "Python 3 (ipykernel)",
   "language": "python",
   "name": "python3"
  },
  "language_info": {
   "codemirror_mode": {
    "name": "ipython",
    "version": 3
   },
   "file_extension": ".py",
   "mimetype": "text/x-python",
   "name": "python",
   "nbconvert_exporter": "python",
   "pygments_lexer": "ipython3",
   "version": "3.10.8"
  }
 },
 "nbformat": 4,
 "nbformat_minor": 5
}
