{
 "cells": [
  {
   "cell_type": "code",
   "execution_count": 2,
   "id": "4c9e9785-1b73-48e9-9456-afb28450da65",
   "metadata": {},
   "outputs": [
    {
     "data": {
      "text/plain": [
       "'\\n Exception is Method To write a code inside a try Block. \\n With Try Block we try to excecute a function, but it mite be there some error \\n and i want to excute the code anyway . In this Case I will use the Exception Keyword\\n to identify the Erorr that my be showed.\\n The diffrent bitween Exception and Synatx Error is that Exception contain Syntax Error \\n and myny other Errors and with Exception we can excecute the code anyway .\\n'"
      ]
     },
     "execution_count": 2,
     "metadata": {},
     "output_type": "execute_result"
    }
   ],
   "source": [
    "# Q1\n",
    "\n",
    "'''\n",
    " Exception is Method To write a code inside a try Block. \n",
    " With Try Block we try to excecute a function, but it mite be there some error \n",
    " and i want to excute the code anyway . In this Case I will use the Exception Keyword\n",
    " to identify the Erorr that my be showed.\n",
    " The diffrent bitween Exception and Synatx Error is that Exception contain Syntax Error \n",
    " and myny other Errors and with Exception we can excecute the code anyway .\n",
    "'''"
   ]
  },
  {
   "cell_type": "code",
   "execution_count": 3,
   "id": "0cbbedf9-b52e-466b-a28d-0e7e1a09673f",
   "metadata": {},
   "outputs": [
    {
     "data": {
      "text/plain": [
       "'\\n\\n'"
      ]
     },
     "execution_count": 3,
     "metadata": {},
     "output_type": "execute_result"
    }
   ],
   "source": [
    "# Q2\n",
    "'''\n",
    "it will give a syntax Error because of incomplete input.\n",
    "'''"
   ]
  },
  {
   "cell_type": "code",
   "execution_count": 5,
   "id": "3bb9a1ca-557c-402f-a8d7-682cd7c4057a",
   "metadata": {},
   "outputs": [
    {
     "ename": "SyntaxError",
     "evalue": "incomplete input (2317266713.py, line 3)",
     "output_type": "error",
     "traceback": [
      "\u001b[0;36m  Cell \u001b[0;32mIn[5], line 3\u001b[0;36m\u001b[0m\n\u001b[0;31m    print(\"Hello Python!\")\u001b[0m\n\u001b[0m                          ^\u001b[0m\n\u001b[0;31mSyntaxError\u001b[0m\u001b[0;31m:\u001b[0m incomplete input\n"
     ]
    }
   ],
   "source": [
    "try :\n",
    "    def test():\n",
    "        print(\"Hello Python!\")"
   ]
  },
  {
   "cell_type": "code",
   "execution_count": 22,
   "id": "a7005972-e7e7-4578-8113-00bcb158f226",
   "metadata": {},
   "outputs": [
    {
     "name": "stdout",
     "output_type": "stream",
     "text": [
      "1.0\n",
      "0.5\n",
      "0.3333333333333333\n",
      "0.25\n",
      "0.2\n",
      "division by zero\n"
     ]
    }
   ],
   "source": [
    "# Q3\n",
    "'''\n",
    "try, except, ,else, finally\n",
    "\n",
    "'''\n",
    "\n",
    "try:\n",
    "    l=[1,2,3,4,5,0]\n",
    "    for num in l:\n",
    "        print(1/num)\n",
    "except Exception as e:\n",
    "    print(e)"
   ]
  },
  {
   "cell_type": "code",
   "execution_count": 29,
   "id": "585cb62a-eccb-40db-85f5-8cd3e2c49a37",
   "metadata": {},
   "outputs": [
    {
     "name": "stdout",
     "output_type": "stream",
     "text": [
      "'tuple' object does not support item assignment\n"
     ]
    }
   ],
   "source": [
    "# Q4\n",
    "\n",
    "try :\n",
    "    tup=(\"name\",\"Reslan\", \"Age\",27, \"Nationality\",\"German\")\n",
    "    tup[0]= \"First Name\"\n",
    "except Exception as e:\n",
    "    print(e)\n",
    "    \n",
    "else : # It will excute when there is no proplem with code\n",
    "    print(\"This is else Function\")\n",
    "    \n",
    "# So for this Excample tuple do not support aswsignment thats why we are not able to reache else Block"
   ]
  },
  {
   "cell_type": "code",
   "execution_count": 30,
   "id": "cf891d81-7cd2-4fca-a366-3925cf4b24f5",
   "metadata": {},
   "outputs": [
    {
     "name": "stdout",
     "output_type": "stream",
     "text": [
      "'tuple' object does not support item assignment\n",
      "This is else Function\n"
     ]
    }
   ],
   "source": [
    "try :\n",
    "    tup=(\"name\",\"Reslan\", \"Age\",27, \"Nationality\",\"German\")\n",
    "    tup[0]= \"First Name\"\n",
    "except Exception as e:\n",
    "    print(e)\n",
    "    \n",
    "finally : # It will excute in all cases . It dosn't matter what we have written in the code\n",
    "    print(\"This is else Function\")"
   ]
  },
  {
   "cell_type": "code",
   "execution_count": 34,
   "id": "b06cfb0c-584b-47ae-a2ea-7d1b8091fd29",
   "metadata": {},
   "outputs": [
    {
     "name": "stdout",
     "output_type": "stream",
     "text": [
      "This is an Integer\n",
      "This is an Integer\n",
      "This is an Integer\n",
      "name 'MyCoustomError' is not defined\n"
     ]
    }
   ],
   "source": [
    "# raise keyword will used to generate my own coustom Error\n",
    "\n",
    "try:\n",
    "    \n",
    "    l = [1 , 2, 3, \"Reslan\", \"Data\", \"Science\"]\n",
    "    \n",
    "    for i in l :\n",
    "        if type(i) == int:\n",
    "            print(\"This is an Integer\")\n",
    "        else:\n",
    "            if type(i) ==str:\n",
    "                raise MyCoustomError(\"I dont like Strings\")\n",
    "                \n",
    "except Exception as e:\n",
    "    print(e)"
   ]
  },
  {
   "cell_type": "code",
   "execution_count": 45,
   "id": "f08e604a-41d0-4fe3-9820-2700cb41bf1e",
   "metadata": {},
   "outputs": [],
   "source": [
    "# Q5\n",
    "'''\n",
    "somtimes we need to spesify a certain Error or Exception\n",
    "so when this happend, it happend throw bulding a class \n",
    "and thic class will inhirate the Superclass Exception\n",
    "\n",
    "'''\n",
    "\n",
    "class MyCoustomException(Exception):\n",
    "    \n",
    "    def  __init__(self, msg):\n",
    "        self.msg = msg\n",
    "        super().__init__( self.msg)"
   ]
  },
  {
   "cell_type": "code",
   "execution_count": 46,
   "id": "8afa5da6-9258-44b9-8112-f5081314de15",
   "metadata": {},
   "outputs": [],
   "source": [
    "def function_exception(x) :\n",
    "    if x < 0:\n",
    "        raise MyCoustomException(\"Its a negative number\")\n",
    "    else:\n",
    "        if x >= 0 :\n",
    "            raise MyCoustomException(\"Its a positive number\")"
   ]
  },
  {
   "cell_type": "code",
   "execution_count": 47,
   "id": "03535caf-07d9-4e62-97c9-180dfd3bf462",
   "metadata": {},
   "outputs": [
    {
     "name": "stdout",
     "output_type": "stream",
     "text": [
      "Its a negative number\n"
     ]
    }
   ],
   "source": [
    "try :\n",
    "    function_exception(-1)\n",
    "except MyCoustomException as e:\n",
    "    print(e)"
   ]
  },
  {
   "cell_type": "code",
   "execution_count": 48,
   "id": "93f28311-4107-402e-bf70-f06ea48cbb12",
   "metadata": {},
   "outputs": [],
   "source": [
    "# Q6 \n",
    "\n",
    "class Data_Exception(Exception):\n",
    "    \n",
    "    def __init__(self, message):\n",
    "        self.message = message\n",
    "        "
   ]
  },
  {
   "cell_type": "code",
   "execution_count": 56,
   "id": "c35e06ef-1613-4c19-8fab-59f069da3821",
   "metadata": {},
   "outputs": [],
   "source": [
    "\n",
    "\n",
    "def maper(l):\n",
    "    for i in l :\n",
    "        if type(i) == int:\n",
    "            raise Data_Exception(\"This is an Integer\")\n",
    "        \n",
    "        elif type(i) == str:\n",
    "            raise Data_Exception(\"This is a String \")\n",
    "        \n",
    "        else:\n",
    "            raise Data_Exception(\"This unknown Data\")"
   ]
  },
  {
   "cell_type": "code",
   "execution_count": 57,
   "id": "6df893d4-416c-4b67-b924-ffcedfd2d3a9",
   "metadata": {},
   "outputs": [
    {
     "name": "stdout",
     "output_type": "stream",
     "text": [
      "This is an Integer\n"
     ]
    }
   ],
   "source": [
    "l = [1,0,2, 3.2, \"Data\", True, (1,2,3)]\n",
    "try :\n",
    "    maper(l)\n",
    "except Data_Exception as e :\n",
    "    print(e)"
   ]
  },
  {
   "cell_type": "code",
   "execution_count": null,
   "id": "1f616536-74ba-4ce2-af90-931162148496",
   "metadata": {},
   "outputs": [],
   "source": []
  }
 ],
 "metadata": {
  "kernelspec": {
   "display_name": "Python 3 (ipykernel)",
   "language": "python",
   "name": "python3"
  },
  "language_info": {
   "codemirror_mode": {
    "name": "ipython",
    "version": 3
   },
   "file_extension": ".py",
   "mimetype": "text/x-python",
   "name": "python",
   "nbconvert_exporter": "python",
   "pygments_lexer": "ipython3",
   "version": "3.10.8"
  }
 },
 "nbformat": 4,
 "nbformat_minor": 5
}
