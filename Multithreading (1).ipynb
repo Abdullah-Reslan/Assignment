{
 "cells": [
  {
   "cell_type": "code",
   "execution_count": 1,
   "id": "ad0c784b-c3d8-4422-bb25-6c9837aa14e7",
   "metadata": {},
   "outputs": [
    {
     "data": {
      "text/plain": [
       "\"\\n - Multithreading is a method to excute multiable \\nfunction in a single time.\\n -It used to reach out a high performance in one processe for one or multi cpu's.\\n\\n -Module Name is threading\\n\""
      ]
     },
     "execution_count": 1,
     "metadata": {},
     "output_type": "execute_result"
    }
   ],
   "source": [
    "# Q1\n",
    "'''\n",
    " - Multithreading is a method to excute multiable \n",
    "function in a single time.\n",
    " -It used to reach out a high performance in one processe for one or multi cpu's.\n",
    "\n",
    " -Module Name is threading\n",
    "'''"
   ]
  },
  {
   "cell_type": "code",
   "execution_count": 2,
   "id": "7472a9a0-d28c-4a82-94d7-65eb4970933e",
   "metadata": {},
   "outputs": [
    {
     "data": {
      "text/plain": [
       "'\\nit will be used for excute mutiable orders in the same time.\\n\\n- threading.active_count() => display the number of the current working threads\\n\\n- threading.enumerate() => return a list of threads that are currently working, but \\nit dosnt return a threads that have stopped or not exceuted\\n\\n- threading.current_thread() => return the thread that running in the time for exceution of this function\\n'"
      ]
     },
     "execution_count": 2,
     "metadata": {},
     "output_type": "execute_result"
    }
   ],
   "source": [
    "# Q2\n",
    "'''\n",
    "it will be used for excute mutiable orders in the same time.\n",
    "\n",
    "- threading.active_count() => display the number of the current working threads\n",
    "\n",
    "- threading.enumerate() => return a list of threads that are currently working, but \n",
    "it dosnt return a threads that have stopped or not exceuted\n",
    "\n",
    "- threading.current_thread() => return the thread that running in the time for exceution of this function\n",
    "'''"
   ]
  },
  {
   "cell_type": "code",
   "execution_count": 3,
   "id": "81ab8885-01ad-4d1f-b834-8d674f6c5409",
   "metadata": {},
   "outputs": [
    {
     "data": {
      "text/plain": [
       "'\\nrun() => we have to override it to be able to excute the orders we want while using the Thread\\n\\nstart() => it simply call the function run() and we have to call it with thread that we want.\\n\\nis_alive() => retrun True while the thread is not finished yet or not started \\n\\njoin() => it force the thread that called her to wait untel the prevoius thread finish his task\\n\\n\\n'"
      ]
     },
     "execution_count": 3,
     "metadata": {},
     "output_type": "execute_result"
    }
   ],
   "source": [
    "# Q3\n",
    "\n",
    "'''\n",
    "run() => we have to override it to be able to excute the orders we want while using the Thread\n",
    "\n",
    "start() => it simply call the function run() and we have to call it with thread that we want.\n",
    "\n",
    "is_alive() => retrun True while the thread is not finished yet or not started \n",
    "\n",
    "join() => it force the thread that called her to wait untel the prevoius thread finish his task\n",
    "\n",
    "\n",
    "'''"
   ]
  },
  {
   "cell_type": "code",
   "execution_count": 78,
   "id": "dcac4ebf-2035-4a25-86d1-9c26a752e88b",
   "metadata": {},
   "outputs": [],
   "source": [
    "# Q4\n",
    "import threading\n",
    "\n",
    "def print_squares(numbers):\n",
    "    for num in numbers :\n",
    "        print(f\"Square of {num} is : {num ** 2}\")\n",
    "        \n",
    "def print_cubes(numbers):\n",
    "    for num in numbers:\n",
    "        print(f\"Cube of {num} is {num ** 3}\")\n",
    "        \n",
    "\n"
   ]
  },
  {
   "cell_type": "code",
   "execution_count": 79,
   "id": "b0b0f85c-8838-4722-84d1-2644b7a8b18f",
   "metadata": {},
   "outputs": [
    {
     "name": "stdout",
     "output_type": "stream",
     "text": [
      "Square of 1 is : 1\n",
      "Square of 2 is : 4\n",
      "Square of 3 is : 9\n",
      "Square of 4 is : 16\n",
      "Square of 5 is : 25\n",
      "Cube of 1 is 1\n",
      "Cube of 2 is 8\n",
      "Cube of 3 is 27\n",
      "Cube of 4 is 64\n",
      "Cube of 5 is 125\n"
     ]
    }
   ],
   "source": [
    "thread1 = threading.Thread(target = print_squares, args=(numbers,))\n",
    "thread2 = threading.Thread(target = print_cubes, args = (numbers,))\n",
    "\n",
    "thread1.start()\n",
    "thread2.start()\n",
    "\n",
    "thread1.join()\n",
    "thread2.join()"
   ]
  },
  {
   "cell_type": "code",
   "execution_count": 80,
   "id": "41a7493e-6779-469a-91d4-3ec77eaf071d",
   "metadata": {},
   "outputs": [
    {
     "data": {
      "text/plain": [
       "'\\nAdvanteges:\\nImproved Performance / Responsiveness / Resource Sharing / Task Parallesim / Resource Utilization / Scalability\\n\\nDisadvanteges:\\nComplexity / Debugging and Testing\\n'"
      ]
     },
     "execution_count": 80,
     "metadata": {},
     "output_type": "execute_result"
    }
   ],
   "source": [
    "# Q5\n",
    "'''\n",
    "Advanteges:\n",
    "Improved Performance / Responsiveness / Resource Sharing / Task Parallesim / Resource Utilization / Scalability\n",
    "\n",
    "Disadvanteges:\n",
    "Complexity / Debugging and Testing\n",
    "'''"
   ]
  },
  {
   "cell_type": "code",
   "execution_count": 81,
   "id": "21258e4b-374b-4230-b519-bc40afd6bfd8",
   "metadata": {},
   "outputs": [
    {
     "data": {
      "text/plain": [
       "'\\nA deadlock is a situation in concurrent programming where two or more threads or processes \\nare unable to proceed because each is waiting for the other to release a resource\\n\\nA race condition is a situation in which the behavior of a program depends on the relative timing of events, \\nsuch as the order in which threads are scheduled to run\\n\\n'"
      ]
     },
     "execution_count": 81,
     "metadata": {},
     "output_type": "execute_result"
    }
   ],
   "source": [
    "# Q6\n",
    "'''\n",
    "A deadlock is a situation in concurrent programming where two or more threads or processes \n",
    "are unable to proceed because each is waiting for the other to release a resource\n",
    "\n",
    "A race condition is a situation in which the behavior of a program depends on the relative timing of events, \n",
    "such as the order in which threads are scheduled to run\n",
    "\n",
    "'''"
   ]
  },
  {
   "cell_type": "code",
   "execution_count": null,
   "id": "e4078085-3653-4f58-b9e0-95712e221acd",
   "metadata": {},
   "outputs": [],
   "source": []
  }
 ],
 "metadata": {
  "kernelspec": {
   "display_name": "Python 3 (ipykernel)",
   "language": "python",
   "name": "python3"
  },
  "language_info": {
   "codemirror_mode": {
    "name": "ipython",
    "version": 3
   },
   "file_extension": ".py",
   "mimetype": "text/x-python",
   "name": "python",
   "nbconvert_exporter": "python",
   "pygments_lexer": "ipython3",
   "version": "3.10.8"
  }
 },
 "nbformat": 4,
 "nbformat_minor": 5
}
