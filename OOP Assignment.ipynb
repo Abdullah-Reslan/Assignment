{
 "cells": [
  {
   "cell_type": "markdown",
   "id": "7a7b57da-2d75-4acd-aad2-18c60ee558d4",
   "metadata": {},
   "source": [
    "# Q1"
   ]
  },
  {
   "cell_type": "markdown",
   "id": "a7605630-6e51-4471-b8b7-b526deda17a2",
   "metadata": {},
   "source": [
    "- Class basically is bluebrint and it contains multiable functions and featurs\n",
    "- Object is a variable that acts like a copy of the class and we can access the functions inside the class \n"
   ]
  },
  {
   "cell_type": "code",
   "execution_count": 5,
   "id": "f8e8b279-6f88-4689-9990-f6707df410a5",
   "metadata": {},
   "outputs": [],
   "source": [
    "# EXP\n",
    "class Country :  # this is the class \n",
    "    \n",
    "    def print_msg(self): #Function inside the class \n",
    "        print(\"THis function contain information about the Country \")\n",
    "    "
   ]
  },
  {
   "cell_type": "code",
   "execution_count": 2,
   "id": "7c58fda3-c542-4463-a67e-cf2d89984e52",
   "metadata": {},
   "outputs": [],
   "source": [
    "obj = Country()"
   ]
  },
  {
   "cell_type": "code",
   "execution_count": 3,
   "id": "bf896528-b1a4-46f5-8083-b12793b136fe",
   "metadata": {},
   "outputs": [
    {
     "name": "stdout",
     "output_type": "stream",
     "text": [
      "THis function contain information about the Country \n"
     ]
    }
   ],
   "source": [
    "obj.print_msg()"
   ]
  },
  {
   "cell_type": "markdown",
   "id": "f5aef04b-6e2f-488d-bb81-bbb8e6189cc6",
   "metadata": {},
   "source": [
    "# Q2"
   ]
  },
  {
   "cell_type": "markdown",
   "id": "5344e933-fa22-4ec6-b80b-59f06101b91a",
   "metadata": {},
   "source": [
    "1- Polymorphisim\n",
    "2- Encapsulation\n",
    "3- Inheritance\n",
    "4- Abstraction"
   ]
  },
  {
   "cell_type": "markdown",
   "id": "2cacbf3c-1cb2-4dc2-b0fd-203ab169e2d2",
   "metadata": {},
   "source": [
    "# Q3"
   ]
  },
  {
   "cell_type": "markdown",
   "id": "ad149a91-6494-4602-aa5f-3822e8596150",
   "metadata": {},
   "source": [
    "- the __init__ function is used to be able to add  some sort of propertys to the class \n",
    "and it contain the word self wich refare to the class it self "
   ]
  },
  {
   "cell_type": "code",
   "execution_count": 7,
   "id": "dec4a47c-5889-48a6-8039-a371afbed1ef",
   "metadata": {},
   "outputs": [],
   "source": [
    "# EXP\n",
    "\n",
    "class Student:\n",
    "    \n",
    "    def __init__(self, name, age, grades): #these are the propertys\n",
    "        \n",
    "        # now we have to define these propertys \n",
    "        self.name = name\n",
    "        self.age = age\n",
    "        self.grades = grades \n",
    "        \n",
    "    def Student_info(self):\n",
    "        print(\"Name is \",self.name)\n",
    "        print(\"The Student is \",self.age,\" Years old\")\n",
    "        print(\"the total score of the grades is : \",self.grades)\n",
    "    "
   ]
  },
  {
   "cell_type": "code",
   "execution_count": 13,
   "id": "d48d8852-55a1-4da7-9d8d-c1bcd67f13ca",
   "metadata": {},
   "outputs": [],
   "source": [
    "# now we creat an object to acceses the methods inside the class \n",
    "obj= Student(\"Reslan\", 28, 3.2 ) #in this case we entered the requierd arguments "
   ]
  },
  {
   "cell_type": "code",
   "execution_count": 14,
   "id": "4bf7a684-d493-4d10-8e95-9f071065eeb7",
   "metadata": {},
   "outputs": [
    {
     "name": "stdout",
     "output_type": "stream",
     "text": [
      "Name is  Reslan\n",
      "The Student is  28  Years old\n",
      "the total score of the grades is :  3.2\n"
     ]
    }
   ],
   "source": [
    "# now we can accese the class throw obj \n",
    "obj.Student_info()"
   ]
  },
  {
   "cell_type": "markdown",
   "id": "42a59528-f837-4db6-95e7-c595a099a5a9",
   "metadata": {},
   "source": [
    "# Q4"
   ]
  },
  {
   "cell_type": "markdown",
   "id": "5dd2af89-09a0-4646-a9cb-51e9c1ea8874",
   "metadata": {},
   "source": [
    "self is keyword that means the property and the functions belong to tha Superclass"
   ]
  },
  {
   "cell_type": "markdown",
   "id": "e0afce98-d457-4598-b21a-e7cdf03d59cd",
   "metadata": {},
   "source": [
    "# Q5"
   ]
  },
  {
   "cell_type": "markdown",
   "id": "30c06953-1720-440f-bc33-f268fd80b765",
   "metadata": {},
   "source": [
    "Inheritance is used to be able to use a certain class multiable time (Code Reuseability)"
   ]
  },
  {
   "cell_type": "code",
   "execution_count": 15,
   "id": "134dad55-927d-410c-8a9c-6a854858f471",
   "metadata": {},
   "outputs": [],
   "source": [
    "# singel Inheritance \n",
    "class A:\n",
    "    pass\n",
    "class B(A):\n",
    "    pass"
   ]
  },
  {
   "cell_type": "code",
   "execution_count": 20,
   "id": "4977d463-9c60-4928-89f6-a48e69572d7a",
   "metadata": {},
   "outputs": [],
   "source": [
    "# Multilevel Inheritance\n",
    "\n",
    "class A: # Main Class\n",
    "    def print_msg(self):\n",
    "        print(\"This is Class A\")\n",
    "        \n",
    "class B(A): # Class B will accese only class A\n",
    "    def print_msg1(self):\n",
    "        print(\"This is class B\")\n",
    "    \n",
    "class C(B): # Class C will be able to access class A and B \n",
    "    def print_msg2(self):\n",
    "        print(\"This is from Class C\")"
   ]
  },
  {
   "cell_type": "code",
   "execution_count": 24,
   "id": "438a18f5-e1b3-4f99-b561-68cf7e9aa993",
   "metadata": {},
   "outputs": [
    {
     "name": "stdout",
     "output_type": "stream",
     "text": [
      "This is Class A\n",
      "This is class B\n"
     ]
    }
   ],
   "source": [
    "obj1 = B()\n",
    "obj1.print_msg()\n",
    "obj1.print_msg1()"
   ]
  },
  {
   "cell_type": "code",
   "execution_count": 25,
   "id": "f57c9dfb-6ed1-45f9-afe8-74ef62356931",
   "metadata": {},
   "outputs": [
    {
     "name": "stdout",
     "output_type": "stream",
     "text": [
      "This is Class A\n",
      "This is class B\n",
      "This is from Class C\n"
     ]
    }
   ],
   "source": [
    "obj2 = C()\n",
    "obj2.print_msg()\n",
    "obj2.print_msg1()\n",
    "obj2.print_msg2()"
   ]
  },
  {
   "cell_type": "code",
   "execution_count": 26,
   "id": "d3d2c14b-9565-4b37-9e22-a7d9ddd90e85",
   "metadata": {},
   "outputs": [],
   "source": [
    "# Multipla Inheritance \n",
    "\n",
    "class A:\n",
    "    pass\n",
    "\n",
    "class B:\n",
    "    pass \n",
    "\n",
    "class C(A,B):\n",
    "    def info_class(self):\n",
    "        print(\"in this case , class C will inherite class A and B only \") "
   ]
  },
  {
   "cell_type": "code",
   "execution_count": 27,
   "id": "14f01e42-d4a5-4040-b1e1-7ec6af63878a",
   "metadata": {},
   "outputs": [],
   "source": [
    "# Hierarchical Inheritance \n",
    "\n",
    "class A :\n",
    "    def alpha(self):\n",
    "        print(\"This the the main class and it will give his propertys to B and C\")\n",
    "        \n",
    "class B(A):\n",
    "    pass\n",
    "\n",
    "class c(A):\n",
    "    pass "
   ]
  },
  {
   "cell_type": "code",
   "execution_count": null,
   "id": "f15994ce-9c81-4a57-92d9-42a9c40616f7",
   "metadata": {},
   "outputs": [],
   "source": []
  }
 ],
 "metadata": {
  "kernelspec": {
   "display_name": "Python 3 (ipykernel)",
   "language": "python",
   "name": "python3"
  },
  "language_info": {
   "codemirror_mode": {
    "name": "ipython",
    "version": 3
   },
   "file_extension": ".py",
   "mimetype": "text/x-python",
   "name": "python",
   "nbconvert_exporter": "python",
   "pygments_lexer": "ipython3",
   "version": "3.10.8"
  }
 },
 "nbformat": 4,
 "nbformat_minor": 5
}
